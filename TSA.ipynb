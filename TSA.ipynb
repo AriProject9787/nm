{
  "nbformat": 4,
  "nbformat_minor": 0,
  "metadata": {
    "colab": {
      "provenance": [],
      "authorship_tag": "ABX9TyMSM/0rEjG0xkUDjUoWihsG",
      "include_colab_link": true
    },
    "kernelspec": {
      "name": "python3",
      "display_name": "Python 3"
    },
    "language_info": {
      "name": "python"
    }
  },
  "cells": [
    {
      "cell_type": "markdown",
      "metadata": {
        "id": "view-in-github",
        "colab_type": "text"
      },
      "source": [
        "<a href=\"https://colab.research.google.com/github/AriProject9787/nm/blob/main/TSA.ipynb\" target=\"_parent\"><img src=\"https://colab.research.google.com/assets/colab-badge.svg\" alt=\"Open In Colab\"/></a>"
      ]
    },
    {
      "cell_type": "markdown",
      "source": [
        "**Ex1**"
      ],
      "metadata": {
        "id": "9hJOmqImS9IV"
      }
    },
    {
      "cell_type": "code",
      "execution_count": 2,
      "metadata": {
        "colab": {
          "base_uri": "https://localhost:8080/"
        },
        "id": "e_oxIZpdSgr1",
        "outputId": "37ccb522-bb5c-4f03-b3ec-f2700f321b7a"
      },
      "outputs": [
        {
          "output_type": "stream",
          "name": "stdout",
          "text": [
            "['Alice']\n"
          ]
        }
      ],
      "source": [
        "import re\n",
        "pattern=r'\\bA\\w*'\n",
        "text=\"Alice was beginning to get very tired of sitting by her sister on the bank\"\n",
        "matches=re.findall(pattern,text)\n",
        "print(matches)"
      ]
    },
    {
      "cell_type": "code",
      "source": [
        "import re\n",
        "pattern=r'\\b\\w+ing\\b'\n",
        "text=\"Alice was beginning to get very tired of sitting by her sister on the bank\"\n",
        "matches=re.findall(pattern,text)\n",
        "print(matches)"
      ],
      "metadata": {
        "colab": {
          "base_uri": "https://localhost:8080/"
        },
        "id": "qjFth4lNTPTH",
        "outputId": "84666fd4-b930-4a16-e283-5f3ec1740d8a"
      },
      "execution_count": 3,
      "outputs": [
        {
          "output_type": "stream",
          "name": "stdout",
          "text": [
            "['beginning', 'sitting']\n"
          ]
        }
      ]
    },
    {
      "cell_type": "code",
      "source": [
        "import re\n",
        "pattern=r'\\b\\w{4}\\b'\n",
        "text=\"This is a test string with some four letter word\"\n",
        "matches=re.findall(pattern,text)\n",
        "print(matches)"
      ],
      "metadata": {
        "colab": {
          "base_uri": "https://localhost:8080/"
        },
        "id": "6nrmIrSXTcQ3",
        "outputId": "65b7b1db-2efb-4890-9434-d16e2b155723"
      },
      "execution_count": 5,
      "outputs": [
        {
          "output_type": "stream",
          "name": "stdout",
          "text": [
            "['This', 'test', 'with', 'some', 'four', 'word']\n"
          ]
        }
      ]
    },
    {
      "cell_type": "code",
      "source": [
        "import re\n",
        "pattern=r'\\b\\w+\\b'\n",
        "text=\"Tokenizing text is useful for natural language processing\"\n",
        "matches=re.findall(pattern,text)\n",
        "print(matches)"
      ],
      "metadata": {
        "colab": {
          "base_uri": "https://localhost:8080/"
        },
        "id": "J8Y6EcO6TpLA",
        "outputId": "bf5befaf-1210-459f-e224-93cb9fa111f6"
      },
      "execution_count": 6,
      "outputs": [
        {
          "output_type": "stream",
          "name": "stdout",
          "text": [
            "['Tokenizing', 'text', 'is', 'useful', 'for', 'natural', 'language', 'processing']\n"
          ]
        }
      ]
    },
    {
      "cell_type": "code",
      "source": [
        "import re\n",
        "pattern=r'(?<!\\w\\.\\w.)(?<![A-Z][a-z]\\.)(?<=\\.|\\?)\\s'\n",
        "text=\"Hello! How are you? I'am fine. Thanks for asking.\"\n",
        "sentences=re.split(pattern,text)\n",
        "print(sentences)"
      ],
      "metadata": {
        "colab": {
          "base_uri": "https://localhost:8080/"
        },
        "id": "uEF2ovukTtGp",
        "outputId": "75cd8444-9247-4370-aa43-a0b4414ab575"
      },
      "execution_count": 8,
      "outputs": [
        {
          "output_type": "stream",
          "name": "stdout",
          "text": [
            "['Hello! How are you?', \"I'am fine.\", 'Thanks for asking.']\n"
          ]
        }
      ]
    },
    {
      "cell_type": "code",
      "source": [
        "import re\n",
        "pattern=r'[.,!?;]'\n",
        "text=\"Hello! How are you? I'am fine; thank you.\"\n",
        "tokens=re.split(pattern,text)\n",
        "print(tokens)"
      ],
      "metadata": {
        "colab": {
          "base_uri": "https://localhost:8080/"
        },
        "id": "HwGTn7h5T7Wa",
        "outputId": "d79123e3-f23b-4ef7-bc37-163498e4710c"
      },
      "execution_count": 9,
      "outputs": [
        {
          "output_type": "stream",
          "name": "stdout",
          "text": [
            "['Hello', ' How are you', \" I'am fine\", ' thank you', '']\n"
          ]
        }
      ]
    },
    {
      "cell_type": "markdown",
      "source": [
        "# **Ex2**\n"
      ],
      "metadata": {
        "id": "xcFvM0q3UDaM"
      }
    },
    {
      "cell_type": "code",
      "source": [
        "import nltk\n",
        "nltk.download('punkt')\n",
        "nltk.download('stopwords')\n",
        "text=\"natural language processing with NLTK is fun and eductional.\"\n",
        "word=\"NLTK\"\n",
        "if word in text:\n",
        "  print(f\"'{word}'found in the text!\")\n",
        "else:\n",
        "  print(f\"'{word}'not found in the text in the text\")\n",
        "from nltk.tokenize import word_tokenize\n",
        "nltk.download('punkt_tab')\n",
        "text=\"natural language processing with NLTK is fun and eductional.\"\n",
        "tokens=word_tokenize(text)\n",
        "vocabulary=set(tokens)\n",
        "print(f\"vocabulary size:{len(vocabulary)}\")\n",
        "from nltk import FreqDist\n",
        "fdist=FreqDist(tokens)\n",
        "print(f\"Most Common Words:{fdist.most_common(5)}\")\n",
        "import nltk\n",
        "from nltk.collocations import BigramCollocationFinder\n",
        "from nltk.metrics import BigramAssocMeasures\n",
        "text=\"Natural Language Processing with NLTK is fun and educational.\"\n",
        "tokens=nltk.word_tokenize(text.lower())\n",
        "finder=BigramCollocationFinder.from_words(tokens)\n",
        "bigrams=finder.nbest(BigramAssocMeasures.likelihood_ratio,5)\n",
        "print(f\"Top 5 bigrams:{bigrams}\")\n",
        "from nltk.util import bigrams\n",
        "bigrams_list=list(bigrams(tokens))\n",
        "print(f\"First 5 bigrams:{bigrams_list[:5]}\")"
      ],
      "metadata": {
        "colab": {
          "base_uri": "https://localhost:8080/"
        },
        "id": "0C1h6MNuUKXC",
        "outputId": "208d65bd-ce08-436f-8838-eb80e4b52aa5"
      },
      "execution_count": 11,
      "outputs": [
        {
          "output_type": "stream",
          "name": "stderr",
          "text": [
            "[nltk_data] Downloading package punkt to /root/nltk_data...\n",
            "[nltk_data]   Package punkt is already up-to-date!\n",
            "[nltk_data] Downloading package stopwords to /root/nltk_data...\n",
            "[nltk_data]   Package stopwords is already up-to-date!\n",
            "[nltk_data] Downloading package punkt_tab to /root/nltk_data...\n",
            "[nltk_data]   Unzipping tokenizers/punkt_tab.zip.\n"
          ]
        },
        {
          "output_type": "stream",
          "name": "stdout",
          "text": [
            "'NLTK'found in the text!\n",
            "vocabulary size:10\n",
            "Most Common Words:[('natural', 1), ('language', 1), ('processing', 1), ('with', 1), ('NLTK', 1)]\n",
            "Top 5 bigrams:[('and', 'educational'), ('educational', '.'), ('fun', 'and'), ('is', 'fun'), ('language', 'processing')]\n",
            "First 5 bigrams:[('natural', 'language'), ('language', 'processing'), ('processing', 'with'), ('with', 'nltk'), ('nltk', 'is')]\n"
          ]
        }
      ]
    },
    {
      "cell_type": "markdown",
      "source": [
        "# **Ex3**\n"
      ],
      "metadata": {
        "id": "0S1_SlOZUznr"
      }
    },
    {
      "cell_type": "code",
      "source": [
        "import nltk\n",
        "nltk.download('gutenberg')\n",
        "from nltk.corpus import gutenberg\n",
        "print(gutenberg.fileids())\n",
        "text=gutenberg.raw('austen-emma.txt')\n",
        "print(text[:1000])\n",
        "import nltk\n",
        "nltk.download('brown')\n",
        "from nltk.corpus import brown\n",
        "print(brown.categories())\n",
        "news_text=brown.raw(categories='news')\n",
        "print(news_text[:1000])\n",
        "from nltk.corpus import stopwords\n",
        "stop_words=stopwords.words('english')\n",
        "print(stop_words[:20])"
      ],
      "metadata": {
        "colab": {
          "base_uri": "https://localhost:8080/"
        },
        "id": "cyDs75P4U5zf",
        "outputId": "045ad636-7dd1-4877-8ee2-45f118653aec"
      },
      "execution_count": 16,
      "outputs": [
        {
          "output_type": "stream",
          "name": "stderr",
          "text": [
            "[nltk_data] Downloading package gutenberg to /root/nltk_data...\n",
            "[nltk_data]   Unzipping corpora/gutenberg.zip.\n"
          ]
        },
        {
          "output_type": "stream",
          "name": "stdout",
          "text": [
            "['austen-emma.txt', 'austen-persuasion.txt', 'austen-sense.txt', 'bible-kjv.txt', 'blake-poems.txt', 'bryant-stories.txt', 'burgess-busterbrown.txt', 'carroll-alice.txt', 'chesterton-ball.txt', 'chesterton-brown.txt', 'chesterton-thursday.txt', 'edgeworth-parents.txt', 'melville-moby_dick.txt', 'milton-paradise.txt', 'shakespeare-caesar.txt', 'shakespeare-hamlet.txt', 'shakespeare-macbeth.txt', 'whitman-leaves.txt']\n",
            "[Emma by Jane Austen 1816]\n",
            "\n",
            "VOLUME I\n",
            "\n",
            "CHAPTER I\n",
            "\n",
            "\n",
            "Emma Woodhouse, handsome, clever, and rich, with a comfortable home\n",
            "and happy disposition, seemed to unite some of the best blessings\n",
            "of existence; and had lived nearly twenty-one years in the world\n",
            "with very little to distress or vex her.\n",
            "\n",
            "She was the youngest of the two daughters of a most affectionate,\n",
            "indulgent father; and had, in consequence of her sister's marriage,\n",
            "been mistress of his house from a very early period.  Her mother\n",
            "had died too long ago for her to have more than an indistinct\n",
            "remembrance of her caresses; and her place had been supplied\n",
            "by an excellent woman as governess, who had fallen little short\n",
            "of a mother in affection.\n",
            "\n",
            "Sixteen years had Miss Taylor been in Mr. Woodhouse's family,\n",
            "less as a governess than a friend, very fond of both daughters,\n",
            "but particularly of Emma.  Between _them_ it was more the intimacy\n",
            "of sisters.  Even before Miss Taylor had ceased to hold the nominal\n",
            "office of governess, the mildness o\n"
          ]
        },
        {
          "output_type": "stream",
          "name": "stderr",
          "text": [
            "[nltk_data] Downloading package brown to /root/nltk_data...\n",
            "[nltk_data]   Unzipping corpora/brown.zip.\n"
          ]
        },
        {
          "output_type": "stream",
          "name": "stdout",
          "text": [
            "['adventure', 'belles_lettres', 'editorial', 'fiction', 'government', 'hobbies', 'humor', 'learned', 'lore', 'mystery', 'news', 'religion', 'reviews', 'romance', 'science_fiction']\n",
            "\n",
            "\n",
            "\tThe/at Fulton/np-tl County/nn-tl Grand/jj-tl Jury/nn-tl said/vbd Friday/nr an/at investigation/nn of/in Atlanta's/np$ recent/jj primary/nn election/nn produced/vbd ``/`` no/at evidence/nn ''/'' that/cs any/dti irregularities/nns took/vbd place/nn ./.\n",
            "\n",
            "\n",
            "\tThe/at jury/nn further/rbr said/vbd in/in term-end/nn presentments/nns that/cs the/at City/nn-tl Executive/jj-tl Committee/nn-tl ,/, which/wdt had/hvd over-all/jj charge/nn of/in the/at election/nn ,/, ``/`` deserves/vbz the/at praise/nn and/cc thanks/nns of/in the/at City/nn-tl of/in-tl Atlanta/np-tl ''/'' for/in the/at manner/nn in/in which/wdt the/at election/nn was/bedz conducted/vbn ./.\n",
            "\n",
            "\n",
            "\tThe/at September-October/np term/nn jury/nn had/hvd been/ben charged/vbn by/in Fulton/np-tl Superior/jj-tl Court/nn-tl Judge/nn-tl Durwood/np Pye/np to/to investigate/vb reports/nns of/in possible/jj ``/`` irregularities/nns ''/'' in/in the/at hard-fought/jj primary/nn which/wdt was/bedz won/vbn by/in Mayor-nominate/nn-tl Ivan/np Allen/np Jr./\n",
            "['a', 'about', 'above', 'after', 'again', 'against', 'ain', 'all', 'am', 'an', 'and', 'any', 'are', 'aren', \"aren't\", 'as', 'at', 'be', 'because', 'been']\n"
          ]
        }
      ]
    },
    {
      "cell_type": "markdown",
      "source": [
        "# **Ex4**\n",
        "\n"
      ],
      "metadata": {
        "id": "sJ14pvyJVlRO"
      }
    },
    {
      "cell_type": "code",
      "source": [
        "import nltk\n",
        "from nltk.corpus import stopwords\n",
        "from nltk.tokenize import word_tokenize\n",
        "from collections import Counter\n",
        "import string\n",
        "nltk.download('stopwords')\n",
        "nltk.download('punkt')\n",
        "def get_most_frequent_words(text,num_words=50):\n",
        "  stop_words=set(stopwords.words('english'))\n",
        "  words=word_tokenize(text)\n",
        "  words=[word.lower() for word in words if word.isalpha()]\n",
        "  filtered_words=[word for word in words if word not in stop_words]\n",
        "  word_counts=Counter(filtered_words)\n",
        "  most_common_words=word_counts.most_common(num_words)\n",
        "  return most_common_words\n",
        "if __name__== \"__main__\":\n",
        "  example_text=\"\"\"Everything we see around us constitutes nature, including the\n",
        "sun, the moon, trees, flowers, fruits, human beings, birds, animals, etc. In nature,\n",
        "everyone depends on one another to keep the ecosystem healthy. For survival, every\n",
        "creature is interrelated and reliant on one another. Humans, for example, rely on nature\n",
        "for their survival, and nature provides us with oxygen, food, water, shelter, medicines,\n",
        "and clothing, among other things.\"\"\"\n",
        "  top_words=get_most_frequent_words(example_text)\n",
        "  print(top_words)"
      ],
      "metadata": {
        "colab": {
          "base_uri": "https://localhost:8080/"
        },
        "id": "HLu7_ukwVpxs",
        "outputId": "d8a2d3a8-f25c-487f-f5d3-cdb9b96ee26e"
      },
      "execution_count": 17,
      "outputs": [
        {
          "output_type": "stream",
          "name": "stdout",
          "text": [
            "[('nature', 4), ('us', 2), ('one', 2), ('another', 2), ('survival', 2), ('everything', 1), ('see', 1), ('around', 1), ('constitutes', 1), ('including', 1), ('sun', 1), ('moon', 1), ('trees', 1), ('flowers', 1), ('fruits', 1), ('human', 1), ('beings', 1), ('birds', 1), ('animals', 1), ('etc', 1), ('everyone', 1), ('depends', 1), ('keep', 1), ('ecosystem', 1), ('healthy', 1), ('every', 1), ('creature', 1), ('interrelated', 1), ('reliant', 1), ('humans', 1), ('example', 1), ('rely', 1), ('provides', 1), ('oxygen', 1), ('food', 1), ('water', 1), ('shelter', 1), ('medicines', 1), ('clothing', 1), ('among', 1), ('things', 1)]\n"
          ]
        },
        {
          "output_type": "stream",
          "name": "stderr",
          "text": [
            "[nltk_data] Downloading package stopwords to /root/nltk_data...\n",
            "[nltk_data]   Package stopwords is already up-to-date!\n",
            "[nltk_data] Downloading package punkt to /root/nltk_data...\n",
            "[nltk_data]   Package punkt is already up-to-date!\n"
          ]
        }
      ]
    },
    {
      "cell_type": "markdown",
      "source": [
        "# **Ex5**"
      ],
      "metadata": {
        "id": "xA73Q33yWTwN"
      }
    },
    {
      "cell_type": "code",
      "source": [
        "\n",
        "!pip install numpy==1.23.5\n",
        "!pip install gensim\n",
        "\n"
      ],
      "metadata": {
        "colab": {
          "base_uri": "https://localhost:8080/"
        },
        "id": "Nriwzt-yWd5S",
        "outputId": "808d89cc-ebcf-4dbf-e10a-7464255b7f39"
      },
      "execution_count": 1,
      "outputs": [
        {
          "output_type": "stream",
          "name": "stdout",
          "text": [
            "Requirement already satisfied: numpy==1.23.5 in /usr/local/lib/python3.11/dist-packages (1.23.5)\n",
            "Requirement already satisfied: gensim in /usr/local/lib/python3.11/dist-packages (4.3.3)\n",
            "Requirement already satisfied: numpy<2.0,>=1.18.5 in /usr/local/lib/python3.11/dist-packages (from gensim) (1.23.5)\n",
            "Requirement already satisfied: scipy<1.14.0,>=1.7.0 in /usr/local/lib/python3.11/dist-packages (from gensim) (1.13.1)\n",
            "Requirement already satisfied: smart-open>=1.8.1 in /usr/local/lib/python3.11/dist-packages (from gensim) (7.1.0)\n",
            "Requirement already satisfied: wrapt in /usr/local/lib/python3.11/dist-packages (from smart-open>=1.8.1->gensim) (1.17.2)\n"
          ]
        }
      ]
    },
    {
      "cell_type": "code",
      "source": [
        "from gensim.models import Word2Vec\n",
        "from gensim.utils import simple_preprocess\n",
        "sentences = [\n",
        "simple_preprocess(\"This is the first document.\"),\n",
        "simple_preprocess(\"This document is the second document.\"),\n",
        "simple_preprocess(\"And this is the third one.\"),\n",
        "simple_preprocess(\"Is this the first document?\")\n",
        "]\n",
        "model = Word2Vec(sentences, vector_size=50, window=5, min_count=1, workers=4)\n",
        "word = 'document'\n",
        "embedding = model.wv[word]\n",
        "print(f\"Embedding for '{word}':\\n{embedding}\")"
      ],
      "metadata": {
        "colab": {
          "base_uri": "https://localhost:8080/"
        },
        "id": "qq5Do4S9WWL6",
        "outputId": "296225d0-aafc-41f8-e025-248e810ff903"
      },
      "execution_count": 2,
      "outputs": [
        {
          "output_type": "stream",
          "name": "stdout",
          "text": [
            "Embedding for 'document':\n",
            "[-1.0724545e-03  4.7286271e-04  1.0206699e-02  1.8018546e-02\n",
            " -1.8605899e-02 -1.4233618e-02  1.2917745e-02  1.7945977e-02\n",
            " -1.0030856e-02 -7.5267432e-03  1.4761009e-02 -3.0669428e-03\n",
            " -9.0732267e-03  1.3108104e-02 -9.7203208e-03 -3.6320353e-03\n",
            "  5.7531595e-03  1.9837476e-03 -1.6570430e-02 -1.8897636e-02\n",
            "  1.4623532e-02  1.0140524e-02  1.3515387e-02  1.5257311e-03\n",
            "  1.2701781e-02 -6.8107317e-03 -1.8928028e-03  1.1537147e-02\n",
            " -1.5043275e-02 -7.8722071e-03 -1.5023164e-02 -1.8600845e-03\n",
            "  1.9076237e-02 -1.4638334e-02 -4.6675373e-03 -3.8754821e-03\n",
            "  1.6154874e-02 -1.1861792e-02  9.0324880e-05 -9.5074680e-03\n",
            " -1.9207101e-02  1.0014586e-02 -1.7519170e-02 -8.7836506e-03\n",
            " -7.0199967e-05 -5.9236289e-04 -1.5322480e-02  1.9229487e-02\n",
            "  9.9641159e-03  1.8466286e-02]\n"
          ]
        }
      ]
    },
    {
      "cell_type": "markdown",
      "source": [
        "# **Ex6**"
      ],
      "metadata": {
        "id": "d4fnzHy6X1Cq"
      }
    },
    {
      "cell_type": "code",
      "source": [
        "!pip uninstall transformers -y\n",
        "!pip install transformers --upgrade --no-cache-dir\n"
      ],
      "metadata": {
        "colab": {
          "base_uri": "https://localhost:8080/"
        },
        "id": "O4t7-G8nYEBO",
        "outputId": "197b09eb-fa90-4789-f6b8-30d386abfb6d"
      },
      "execution_count": 1,
      "outputs": [
        {
          "output_type": "stream",
          "name": "stdout",
          "text": [
            "Found existing installation: transformers 4.52.4\n",
            "Uninstalling transformers-4.52.4:\n",
            "  Successfully uninstalled transformers-4.52.4\n",
            "Collecting transformers\n",
            "  Downloading transformers-4.52.4-py3-none-any.whl.metadata (38 kB)\n",
            "Requirement already satisfied: filelock in /usr/local/lib/python3.11/dist-packages (from transformers) (3.18.0)\n",
            "Requirement already satisfied: huggingface-hub<1.0,>=0.30.0 in /usr/local/lib/python3.11/dist-packages (from transformers) (0.31.4)\n",
            "Requirement already satisfied: numpy>=1.17 in /usr/local/lib/python3.11/dist-packages (from transformers) (1.23.5)\n",
            "Requirement already satisfied: packaging>=20.0 in /usr/local/lib/python3.11/dist-packages (from transformers) (24.2)\n",
            "Requirement already satisfied: pyyaml>=5.1 in /usr/local/lib/python3.11/dist-packages (from transformers) (6.0.2)\n",
            "Requirement already satisfied: regex!=2019.12.17 in /usr/local/lib/python3.11/dist-packages (from transformers) (2024.11.6)\n",
            "Requirement already satisfied: requests in /usr/local/lib/python3.11/dist-packages (from transformers) (2.32.3)\n",
            "Requirement already satisfied: tokenizers<0.22,>=0.21 in /usr/local/lib/python3.11/dist-packages (from transformers) (0.21.1)\n",
            "Requirement already satisfied: safetensors>=0.4.3 in /usr/local/lib/python3.11/dist-packages (from transformers) (0.5.3)\n",
            "Requirement already satisfied: tqdm>=4.27 in /usr/local/lib/python3.11/dist-packages (from transformers) (4.67.1)\n",
            "Requirement already satisfied: fsspec>=2023.5.0 in /usr/local/lib/python3.11/dist-packages (from huggingface-hub<1.0,>=0.30.0->transformers) (2025.3.2)\n",
            "Requirement already satisfied: typing-extensions>=3.7.4.3 in /usr/local/lib/python3.11/dist-packages (from huggingface-hub<1.0,>=0.30.0->transformers) (4.13.2)\n",
            "Requirement already satisfied: charset-normalizer<4,>=2 in /usr/local/lib/python3.11/dist-packages (from requests->transformers) (3.4.2)\n",
            "Requirement already satisfied: idna<4,>=2.5 in /usr/local/lib/python3.11/dist-packages (from requests->transformers) (3.10)\n",
            "Requirement already satisfied: urllib3<3,>=1.21.1 in /usr/local/lib/python3.11/dist-packages (from requests->transformers) (2.4.0)\n",
            "Requirement already satisfied: certifi>=2017.4.17 in /usr/local/lib/python3.11/dist-packages (from requests->transformers) (2025.4.26)\n",
            "Downloading transformers-4.52.4-py3-none-any.whl (10.5 MB)\n",
            "\u001b[2K   \u001b[90m━━━━━━━━━━━━━━━━━━━━━━━━━━━━━━━━━━━━━━━━\u001b[0m \u001b[32m10.5/10.5 MB\u001b[0m \u001b[31m65.1 MB/s\u001b[0m eta \u001b[36m0:00:00\u001b[0m\n",
            "\u001b[?25hInstalling collected packages: transformers\n",
            "Successfully installed transformers-4.52.4\n"
          ]
        }
      ]
    },
    {
      "cell_type": "code",
      "source": [
        "import torch\n",
        "from transformers import BertTokenizer, BertForSequenceClassification\n",
        "tokenizer = BertTokenizer.from_pretrained('nlptown/bert-base-multilingual-uncased-sentiment')\n",
        "model = BertForSequenceClassification.from_pretrained('nlptown/bert-base-multilingual-uncased-sentiment')\n",
        "texts = [\"I love programming.\", \"This is a bad movie.\"]\n",
        "for text in texts:\n",
        "    inputs = tokenizer(text, return_tensors=\"pt\", truncation=True, padding=True)\n",
        "    outputs = model(**inputs)\n",
        "    predicted_class = torch.argmax(outputs.logits).item()\n",
        "    print(f\"Text: {text}\\nPredicted Sentiment Class: {predicted_class}\\n\")\n"
      ],
      "metadata": {
        "colab": {
          "base_uri": "https://localhost:8080/",
          "height": 414
        },
        "id": "7N5c9PYWX3r_",
        "outputId": "9817fe72-ac17-4acf-901b-d8892248edce"
      },
      "execution_count": 2,
      "outputs": [
        {
          "output_type": "error",
          "ename": "ImportError",
          "evalue": "cannot import name 'BertForSequenceClassification' from 'transformers' (/usr/local/lib/python3.11/dist-packages/transformers/__init__.py)",
          "traceback": [
            "\u001b[0;31m---------------------------------------------------------------------------\u001b[0m",
            "\u001b[0;31mImportError\u001b[0m                               Traceback (most recent call last)",
            "\u001b[0;32m<ipython-input-2-c528c3460666>\u001b[0m in \u001b[0;36m<cell line: 0>\u001b[0;34m()\u001b[0m\n\u001b[1;32m      1\u001b[0m \u001b[0;32mimport\u001b[0m \u001b[0mtorch\u001b[0m\u001b[0;34m\u001b[0m\u001b[0;34m\u001b[0m\u001b[0m\n\u001b[0;32m----> 2\u001b[0;31m \u001b[0;32mfrom\u001b[0m \u001b[0mtransformers\u001b[0m \u001b[0;32mimport\u001b[0m \u001b[0mBertTokenizer\u001b[0m\u001b[0;34m,\u001b[0m \u001b[0mBertForSequenceClassification\u001b[0m\u001b[0;34m\u001b[0m\u001b[0;34m\u001b[0m\u001b[0m\n\u001b[0m\u001b[1;32m      3\u001b[0m \u001b[0mtokenizer\u001b[0m \u001b[0;34m=\u001b[0m \u001b[0mBertTokenizer\u001b[0m\u001b[0;34m.\u001b[0m\u001b[0mfrom_pretrained\u001b[0m\u001b[0;34m(\u001b[0m\u001b[0;34m'nlptown/bert-base-multilingual-uncased-sentiment'\u001b[0m\u001b[0;34m)\u001b[0m\u001b[0;34m\u001b[0m\u001b[0;34m\u001b[0m\u001b[0m\n\u001b[1;32m      4\u001b[0m \u001b[0mmodel\u001b[0m \u001b[0;34m=\u001b[0m \u001b[0mBertForSequenceClassification\u001b[0m\u001b[0;34m.\u001b[0m\u001b[0mfrom_pretrained\u001b[0m\u001b[0;34m(\u001b[0m\u001b[0;34m'nlptown/bert-base-multilingual-uncased-sentiment'\u001b[0m\u001b[0;34m)\u001b[0m\u001b[0;34m\u001b[0m\u001b[0;34m\u001b[0m\u001b[0m\n\u001b[1;32m      5\u001b[0m \u001b[0mtexts\u001b[0m \u001b[0;34m=\u001b[0m \u001b[0;34m[\u001b[0m\u001b[0;34m\"I love programming.\"\u001b[0m\u001b[0;34m,\u001b[0m \u001b[0;34m\"This is a bad movie.\"\u001b[0m\u001b[0;34m]\u001b[0m\u001b[0;34m\u001b[0m\u001b[0;34m\u001b[0m\u001b[0m\n",
            "\u001b[0;31mImportError\u001b[0m: cannot import name 'BertForSequenceClassification' from 'transformers' (/usr/local/lib/python3.11/dist-packages/transformers/__init__.py)",
            "",
            "\u001b[0;31m---------------------------------------------------------------------------\u001b[0;32m\nNOTE: If your import is failing due to a missing package, you can\nmanually install dependencies using either !pip or !apt.\n\nTo view examples of installing some common dependencies, click the\n\"Open Examples\" button below.\n\u001b[0;31m---------------------------------------------------------------------------\u001b[0m\n"
          ],
          "errorDetails": {
            "actions": [
              {
                "action": "open_url",
                "actionText": "Open Examples",
                "url": "/notebooks/snippets/importing_libraries.ipynb"
              }
            ]
          }
        }
      ]
    },
    {
      "cell_type": "markdown",
      "source": [
        "# **Ex7**"
      ],
      "metadata": {
        "id": "u5X9tWRJYdFD"
      }
    },
    {
      "cell_type": "code",
      "source": [
        "class SimpleChatbot:\n",
        "    def __init__(self):\n",
        "        self.responses = {\n",
        "            \"hello\": \"Hello! How can I assist you today?\",\n",
        "            \"how are you\": \"I'm just a bunch of code, but I'm doing great! How about you?\",\n",
        "            \"what is your name\": \"I'm a simple chatbot created for conversation.\",\n",
        "            \"bye\": \"Goodbye! Have a great day!\",\n",
        "        }\n",
        "\n",
        "    def get_response(self, user_input):\n",
        "        user_input = user_input.lower()\n",
        "        return self.responses.get(user_input, \"I'm sorry, I don't understand that.\")\n",
        "\n",
        "    def chat(self):\n",
        "        print(\"Welcome to the chatbot! Type 'bye' to exit.\")\n",
        "        while True:\n",
        "            user_input = input(\"You: \")\n",
        "            if user_input.lower() == \"bye\":\n",
        "                print(\"Chatbot: Goodbye! Have a great day!\")\n",
        "                break\n",
        "            response = self.get_response(user_input)\n",
        "            print(f\"Chatbot: {response}\")\n",
        "\n",
        "\n",
        "if __name__ == \"__main__\":\n",
        "    chatbot = SimpleChatbot()\n",
        "    chatbot.chat()\n"
      ],
      "metadata": {
        "colab": {
          "base_uri": "https://localhost:8080/"
        },
        "id": "YkHqmyTiYfrD",
        "outputId": "43aae926-8dd1-47b4-f9d4-a2d9b2a6bb66"
      },
      "execution_count": 8,
      "outputs": [
        {
          "output_type": "stream",
          "name": "stdout",
          "text": [
            "Welcome to the chatbot! Type 'bye' to exit.\n",
            "You: hi\n",
            "Chatbot: I'm sorry, I don't understand that.\n",
            "You: hello\n",
            "Chatbot: Hello! How can I assist you today?\n",
            "You: bye\n",
            "Chatbot: Goodbye! Have a great day!\n"
          ]
        }
      ]
    },
    {
      "cell_type": "markdown",
      "source": [
        "# **Ex8**"
      ],
      "metadata": {
        "id": "Jnu1pwIdZNb2"
      }
    },
    {
      "cell_type": "code",
      "source": [
        "!pip install gTTS\n",
        "!pip install SpeechRecognition\n",
        "!pip install pydub\n",
        "!apt-get install ffmpeg from gtts import gTTS"
      ],
      "metadata": {
        "colab": {
          "base_uri": "https://localhost:8080/"
        },
        "id": "2JVuM-84ZP1I",
        "outputId": "a7014cac-01b7-4566-d8d0-9c3b31bab368"
      },
      "execution_count": 13,
      "outputs": [
        {
          "output_type": "stream",
          "name": "stdout",
          "text": [
            "Collecting gTTS\n",
            "  Downloading gTTS-2.5.4-py3-none-any.whl.metadata (4.1 kB)\n",
            "Requirement already satisfied: requests<3,>=2.27 in /usr/local/lib/python3.11/dist-packages (from gTTS) (2.32.3)\n",
            "Collecting click<8.2,>=7.1 (from gTTS)\n",
            "  Downloading click-8.1.8-py3-none-any.whl.metadata (2.3 kB)\n",
            "Requirement already satisfied: charset-normalizer<4,>=2 in /usr/local/lib/python3.11/dist-packages (from requests<3,>=2.27->gTTS) (3.4.2)\n",
            "Requirement already satisfied: idna<4,>=2.5 in /usr/local/lib/python3.11/dist-packages (from requests<3,>=2.27->gTTS) (3.10)\n",
            "Requirement already satisfied: urllib3<3,>=1.21.1 in /usr/local/lib/python3.11/dist-packages (from requests<3,>=2.27->gTTS) (2.4.0)\n",
            "Requirement already satisfied: certifi>=2017.4.17 in /usr/local/lib/python3.11/dist-packages (from requests<3,>=2.27->gTTS) (2025.4.26)\n",
            "Downloading gTTS-2.5.4-py3-none-any.whl (29 kB)\n",
            "Downloading click-8.1.8-py3-none-any.whl (98 kB)\n",
            "\u001b[2K   \u001b[90m━━━━━━━━━━━━━━━━━━━━━━━━━━━━━━━━━━━━━━━━\u001b[0m \u001b[32m98.2/98.2 kB\u001b[0m \u001b[31m3.5 MB/s\u001b[0m eta \u001b[36m0:00:00\u001b[0m\n",
            "\u001b[?25hInstalling collected packages: click, gTTS\n",
            "  Attempting uninstall: click\n",
            "    Found existing installation: click 8.2.1\n",
            "    Uninstalling click-8.2.1:\n",
            "      Successfully uninstalled click-8.2.1\n",
            "Successfully installed click-8.1.8 gTTS-2.5.4\n",
            "Collecting SpeechRecognition\n",
            "  Downloading speechrecognition-3.14.3-py3-none-any.whl.metadata (30 kB)\n",
            "Requirement already satisfied: typing-extensions in /usr/local/lib/python3.11/dist-packages (from SpeechRecognition) (4.13.2)\n",
            "Downloading speechrecognition-3.14.3-py3-none-any.whl (32.9 MB)\n",
            "\u001b[2K   \u001b[90m━━━━━━━━━━━━━━━━━━━━━━━━━━━━━━━━━━━━━━━━\u001b[0m \u001b[32m32.9/32.9 MB\u001b[0m \u001b[31m14.0 MB/s\u001b[0m eta \u001b[36m0:00:00\u001b[0m\n",
            "\u001b[?25hInstalling collected packages: SpeechRecognition\n",
            "Successfully installed SpeechRecognition-3.14.3\n",
            "Collecting pydub\n",
            "  Downloading pydub-0.25.1-py2.py3-none-any.whl.metadata (1.4 kB)\n",
            "Downloading pydub-0.25.1-py2.py3-none-any.whl (32 kB)\n",
            "Installing collected packages: pydub\n",
            "Successfully installed pydub-0.25.1\n",
            "Reading package lists... Done\n",
            "Building dependency tree... Done\n",
            "Reading state information... Done\n",
            "E: Unable to locate package from\n",
            "E: Unable to locate package gtts\n",
            "E: Unable to locate package import\n",
            "E: Unable to locate package gTTS\n"
          ]
        }
      ]
    },
    {
      "cell_type": "code",
      "source": [
        "from IPython.display import Audio, display\n",
        "import speech_recognition as sr\n",
        "from pydub import AudioSegment\n",
        "from gtts import gTTS\n",
        "from difflib import SequenceMatcher\n",
        "text = \"How are you.\"\n",
        "gTTS(text).save(\"output.mp3\")\n",
        "AudioSegment.from_mp3(\"output.mp3\").export(\"output.wav\", format=\"wav\")\n",
        "display(Audio(\"output.wav\", autoplay=True))\n",
        "r = sr.Recognizer()\n",
        "with sr.AudioFile(\"output.wav\") as source:\n",
        "    audio = r.record(source)\n",
        "    transcribed_text = r.recognize_google(audio)\n",
        "accuracy = SequenceMatcher(None, text.split(), transcribed_text.split()).ratio() * 100\n",
        "print(f\"Original: '{text}'\\nTranscribed: '{transcribed_text}'\\nAccuracy: {accuracy:.2f}%\")\n"
      ],
      "metadata": {
        "colab": {
          "base_uri": "https://localhost:8080/",
          "height": 114
        },
        "id": "YiB4SFleZXq-",
        "outputId": "42e33fbe-8788-4bd6-f5ec-40dacb7c22e5"
      },
      "execution_count": 14,
      "outputs": [
        {
          "output_type": "display_data",
          "data": {
            "text/plain": [
              "<IPython.lib.display.Audio object>"
            ],
            "text/html": [
              "\n",
              "                <audio  controls=\"controls\" autoplay=\"autoplay\">\n",
              "                    <source src=\"data:audio/x-wav;base64,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\" type=\"audio/x-wav\" />\n",
              "                    Your browser does not support the audio element.\n",
              "                </audio>\n",
              "              "
            ]
          },
          "metadata": {}
        },
        {
          "output_type": "stream",
          "name": "stdout",
          "text": [
            "Original: 'How are you.'\n",
            "Transcribed: 'how are you'\n",
            "Accuracy: 33.33%\n"
          ]
        }
      ]
    },
    {
      "cell_type": "markdown",
      "source": [
        "# **Ex9**"
      ],
      "metadata": {
        "id": "ZtkmthcabVtI"
      }
    },
    {
      "cell_type": "code",
      "source": [
        "!pip install SpeechRecognition jiwer pydub\n",
        "!apt-get install -y ffmpeg"
      ],
      "metadata": {
        "colab": {
          "base_uri": "https://localhost:8080/"
        },
        "id": "mm2JRMn-bxGG",
        "outputId": "ea198d32-3624-404a-8f79-7371f1fa90e1"
      },
      "execution_count": 3,
      "outputs": [
        {
          "output_type": "stream",
          "name": "stdout",
          "text": [
            "Requirement already satisfied: SpeechRecognition in /usr/local/lib/python3.11/dist-packages (3.14.3)\n",
            "Collecting jiwer\n",
            "  Downloading jiwer-3.1.0-py3-none-any.whl.metadata (2.6 kB)\n",
            "Requirement already satisfied: pydub in /usr/local/lib/python3.11/dist-packages (0.25.1)\n",
            "Requirement already satisfied: typing-extensions in /usr/local/lib/python3.11/dist-packages (from SpeechRecognition) (4.13.2)\n",
            "Requirement already satisfied: click>=8.1.8 in /usr/local/lib/python3.11/dist-packages (from jiwer) (8.1.8)\n",
            "Collecting rapidfuzz>=3.9.7 (from jiwer)\n",
            "  Downloading rapidfuzz-3.13.0-cp311-cp311-manylinux_2_17_x86_64.manylinux2014_x86_64.whl.metadata (12 kB)\n",
            "Downloading jiwer-3.1.0-py3-none-any.whl (22 kB)\n",
            "Downloading rapidfuzz-3.13.0-cp311-cp311-manylinux_2_17_x86_64.manylinux2014_x86_64.whl (3.1 MB)\n",
            "\u001b[2K   \u001b[90m━━━━━━━━━━━━━━━━━━━━━━━━━━━━━━━━━━━━━━━━\u001b[0m \u001b[32m3.1/3.1 MB\u001b[0m \u001b[31m31.4 MB/s\u001b[0m eta \u001b[36m0:00:00\u001b[0m\n",
            "\u001b[?25hInstalling collected packages: rapidfuzz, jiwer\n",
            "Successfully installed jiwer-3.1.0 rapidfuzz-3.13.0\n",
            "Reading package lists... Done\n",
            "Building dependency tree... Done\n",
            "Reading state information... Done\n",
            "ffmpeg is already the newest version (7:4.4.2-0ubuntu0.22.04.1).\n",
            "0 upgraded, 0 newly installed, 0 to remove and 35 not upgraded.\n"
          ]
        }
      ]
    },
    {
      "cell_type": "code",
      "source": [
        "import speech_recognition as sr\n",
        "from jiwer import wer\n",
        "from google.colab import files\n",
        "from pydub import AudioSegment\n",
        "\n",
        "def convert_to_wav(audio_file):\n",
        "    audio = AudioSegment.from_file(audio_file)\n",
        "    wav_file = audio_file.split('.')[0] + \".wav\"\n",
        "    audio.export(wav_file, format=\"wav\")\n",
        "    return wav_file\n",
        "\n",
        "def recognize_speech(audio_file):\n",
        "    recognizer = sr.Recognizer()\n",
        "    with sr.AudioFile(audio_file) as source:\n",
        "        print(\"Listening to audio...\")\n",
        "        audio = recognizer.record(source)\n",
        "    try:\n",
        "        print(\"Recognizing speech...\")\n",
        "        recognized_text = recognizer.recognize_google(audio)\n",
        "        print(\"Recognized text: \", recognized_text)\n",
        "        return recognized_text\n",
        "    except sr.UnknownValueError:\n",
        "        print(\"Google Speech Recognition could not understand audio\")\n",
        "    except sr.RequestError as e:\n",
        "        print(f\"Could not request results from Google Speech Recognition service; {e}\")\n",
        "    return \"\"\n",
        "\n",
        "def calculate_wer(reference_text, recognized_text):\n",
        "    return wer(reference_text, recognized_text)\n",
        "\n",
        "uploaded = files.upload()\n",
        "audio_file_path = list(uploaded.keys())[0]\n",
        "wav_file = convert_to_wav(audio_file_path)\n",
        "reference_text = \"this is a sample speech recognition test\"\n",
        "recognized_text = recognize_speech(wav_file)\n",
        "\n",
        "if recognized_text:\n",
        "    error_rate = calculate_wer(reference_text, recognized_text)\n",
        "    print(f\"Word Error Rate (WER): {error_rate}\")\n",
        "else:\n",
        "    print(\"Could not recognize speech from the audio file.\")\n"
      ],
      "metadata": {
        "colab": {
          "base_uri": "https://localhost:8080/",
          "height": 388
        },
        "id": "Bq2INpnUbX3x",
        "outputId": "820d9949-d3eb-4790-bca3-895dc3cdd265"
      },
      "execution_count": 6,
      "outputs": [
        {
          "output_type": "display_data",
          "data": {
            "text/plain": [
              "<IPython.core.display.HTML object>"
            ],
            "text/html": [
              "\n",
              "     <input type=\"file\" id=\"files-058488a9-f4d4-44c6-80b1-f88214782132\" name=\"files[]\" multiple disabled\n",
              "        style=\"border:none\" />\n",
              "     <output id=\"result-058488a9-f4d4-44c6-80b1-f88214782132\">\n",
              "      Upload widget is only available when the cell has been executed in the\n",
              "      current browser session. Please rerun this cell to enable.\n",
              "      </output>\n",
              "      <script>// Copyright 2017 Google LLC\n",
              "//\n",
              "// Licensed under the Apache License, Version 2.0 (the \"License\");\n",
              "// you may not use this file except in compliance with the License.\n",
              "// You may obtain a copy of the License at\n",
              "//\n",
              "//      http://www.apache.org/licenses/LICENSE-2.0\n",
              "//\n",
              "// Unless required by applicable law or agreed to in writing, software\n",
              "// distributed under the License is distributed on an \"AS IS\" BASIS,\n",
              "// WITHOUT WARRANTIES OR CONDITIONS OF ANY KIND, either express or implied.\n",
              "// See the License for the specific language governing permissions and\n",
              "// limitations under the License.\n",
              "\n",
              "/**\n",
              " * @fileoverview Helpers for google.colab Python module.\n",
              " */\n",
              "(function(scope) {\n",
              "function span(text, styleAttributes = {}) {\n",
              "  const element = document.createElement('span');\n",
              "  element.textContent = text;\n",
              "  for (const key of Object.keys(styleAttributes)) {\n",
              "    element.style[key] = styleAttributes[key];\n",
              "  }\n",
              "  return element;\n",
              "}\n",
              "\n",
              "// Max number of bytes which will be uploaded at a time.\n",
              "const MAX_PAYLOAD_SIZE = 100 * 1024;\n",
              "\n",
              "function _uploadFiles(inputId, outputId) {\n",
              "  const steps = uploadFilesStep(inputId, outputId);\n",
              "  const outputElement = document.getElementById(outputId);\n",
              "  // Cache steps on the outputElement to make it available for the next call\n",
              "  // to uploadFilesContinue from Python.\n",
              "  outputElement.steps = steps;\n",
              "\n",
              "  return _uploadFilesContinue(outputId);\n",
              "}\n",
              "\n",
              "// This is roughly an async generator (not supported in the browser yet),\n",
              "// where there are multiple asynchronous steps and the Python side is going\n",
              "// to poll for completion of each step.\n",
              "// This uses a Promise to block the python side on completion of each step,\n",
              "// then passes the result of the previous step as the input to the next step.\n",
              "function _uploadFilesContinue(outputId) {\n",
              "  const outputElement = document.getElementById(outputId);\n",
              "  const steps = outputElement.steps;\n",
              "\n",
              "  const next = steps.next(outputElement.lastPromiseValue);\n",
              "  return Promise.resolve(next.value.promise).then((value) => {\n",
              "    // Cache the last promise value to make it available to the next\n",
              "    // step of the generator.\n",
              "    outputElement.lastPromiseValue = value;\n",
              "    return next.value.response;\n",
              "  });\n",
              "}\n",
              "\n",
              "/**\n",
              " * Generator function which is called between each async step of the upload\n",
              " * process.\n",
              " * @param {string} inputId Element ID of the input file picker element.\n",
              " * @param {string} outputId Element ID of the output display.\n",
              " * @return {!Iterable<!Object>} Iterable of next steps.\n",
              " */\n",
              "function* uploadFilesStep(inputId, outputId) {\n",
              "  const inputElement = document.getElementById(inputId);\n",
              "  inputElement.disabled = false;\n",
              "\n",
              "  const outputElement = document.getElementById(outputId);\n",
              "  outputElement.innerHTML = '';\n",
              "\n",
              "  const pickedPromise = new Promise((resolve) => {\n",
              "    inputElement.addEventListener('change', (e) => {\n",
              "      resolve(e.target.files);\n",
              "    });\n",
              "  });\n",
              "\n",
              "  const cancel = document.createElement('button');\n",
              "  inputElement.parentElement.appendChild(cancel);\n",
              "  cancel.textContent = 'Cancel upload';\n",
              "  const cancelPromise = new Promise((resolve) => {\n",
              "    cancel.onclick = () => {\n",
              "      resolve(null);\n",
              "    };\n",
              "  });\n",
              "\n",
              "  // Wait for the user to pick the files.\n",
              "  const files = yield {\n",
              "    promise: Promise.race([pickedPromise, cancelPromise]),\n",
              "    response: {\n",
              "      action: 'starting',\n",
              "    }\n",
              "  };\n",
              "\n",
              "  cancel.remove();\n",
              "\n",
              "  // Disable the input element since further picks are not allowed.\n",
              "  inputElement.disabled = true;\n",
              "\n",
              "  if (!files) {\n",
              "    return {\n",
              "      response: {\n",
              "        action: 'complete',\n",
              "      }\n",
              "    };\n",
              "  }\n",
              "\n",
              "  for (const file of files) {\n",
              "    const li = document.createElement('li');\n",
              "    li.append(span(file.name, {fontWeight: 'bold'}));\n",
              "    li.append(span(\n",
              "        `(${file.type || 'n/a'}) - ${file.size} bytes, ` +\n",
              "        `last modified: ${\n",
              "            file.lastModifiedDate ? file.lastModifiedDate.toLocaleDateString() :\n",
              "                                    'n/a'} - `));\n",
              "    const percent = span('0% done');\n",
              "    li.appendChild(percent);\n",
              "\n",
              "    outputElement.appendChild(li);\n",
              "\n",
              "    const fileDataPromise = new Promise((resolve) => {\n",
              "      const reader = new FileReader();\n",
              "      reader.onload = (e) => {\n",
              "        resolve(e.target.result);\n",
              "      };\n",
              "      reader.readAsArrayBuffer(file);\n",
              "    });\n",
              "    // Wait for the data to be ready.\n",
              "    let fileData = yield {\n",
              "      promise: fileDataPromise,\n",
              "      response: {\n",
              "        action: 'continue',\n",
              "      }\n",
              "    };\n",
              "\n",
              "    // Use a chunked sending to avoid message size limits. See b/62115660.\n",
              "    let position = 0;\n",
              "    do {\n",
              "      const length = Math.min(fileData.byteLength - position, MAX_PAYLOAD_SIZE);\n",
              "      const chunk = new Uint8Array(fileData, position, length);\n",
              "      position += length;\n",
              "\n",
              "      const base64 = btoa(String.fromCharCode.apply(null, chunk));\n",
              "      yield {\n",
              "        response: {\n",
              "          action: 'append',\n",
              "          file: file.name,\n",
              "          data: base64,\n",
              "        },\n",
              "      };\n",
              "\n",
              "      let percentDone = fileData.byteLength === 0 ?\n",
              "          100 :\n",
              "          Math.round((position / fileData.byteLength) * 100);\n",
              "      percent.textContent = `${percentDone}% done`;\n",
              "\n",
              "    } while (position < fileData.byteLength);\n",
              "  }\n",
              "\n",
              "  // All done.\n",
              "  yield {\n",
              "    response: {\n",
              "      action: 'complete',\n",
              "    }\n",
              "  };\n",
              "}\n",
              "\n",
              "scope.google = scope.google || {};\n",
              "scope.google.colab = scope.google.colab || {};\n",
              "scope.google.colab._files = {\n",
              "  _uploadFiles,\n",
              "  _uploadFilesContinue,\n",
              "};\n",
              "})(self);\n",
              "</script> "
            ]
          },
          "metadata": {}
        },
        {
          "output_type": "error",
          "ename": "KeyboardInterrupt",
          "evalue": "",
          "traceback": [
            "\u001b[0;31m---------------------------------------------------------------------------\u001b[0m",
            "\u001b[0;31mKeyboardInterrupt\u001b[0m                         Traceback (most recent call last)",
            "\u001b[0;32m<ipython-input-6-f70f05df94f8>\u001b[0m in \u001b[0;36m<cell line: 0>\u001b[0;34m()\u001b[0m\n\u001b[1;32m     29\u001b[0m     \u001b[0;32mreturn\u001b[0m \u001b[0mwer\u001b[0m\u001b[0;34m(\u001b[0m\u001b[0mreference_text\u001b[0m\u001b[0;34m,\u001b[0m \u001b[0mrecognized_text\u001b[0m\u001b[0;34m)\u001b[0m\u001b[0;34m\u001b[0m\u001b[0;34m\u001b[0m\u001b[0m\n\u001b[1;32m     30\u001b[0m \u001b[0;34m\u001b[0m\u001b[0m\n\u001b[0;32m---> 31\u001b[0;31m \u001b[0muploaded\u001b[0m \u001b[0;34m=\u001b[0m \u001b[0mfiles\u001b[0m\u001b[0;34m.\u001b[0m\u001b[0mupload\u001b[0m\u001b[0;34m(\u001b[0m\u001b[0;34m)\u001b[0m\u001b[0;34m\u001b[0m\u001b[0;34m\u001b[0m\u001b[0m\n\u001b[0m\u001b[1;32m     32\u001b[0m \u001b[0maudio_file_path\u001b[0m \u001b[0;34m=\u001b[0m \u001b[0mlist\u001b[0m\u001b[0;34m(\u001b[0m\u001b[0muploaded\u001b[0m\u001b[0;34m.\u001b[0m\u001b[0mkeys\u001b[0m\u001b[0;34m(\u001b[0m\u001b[0;34m)\u001b[0m\u001b[0;34m)\u001b[0m\u001b[0;34m[\u001b[0m\u001b[0;36m0\u001b[0m\u001b[0;34m]\u001b[0m\u001b[0;34m\u001b[0m\u001b[0;34m\u001b[0m\u001b[0m\n\u001b[1;32m     33\u001b[0m \u001b[0mwav_file\u001b[0m \u001b[0;34m=\u001b[0m \u001b[0mconvert_to_wav\u001b[0m\u001b[0;34m(\u001b[0m\u001b[0maudio_file_path\u001b[0m\u001b[0;34m)\u001b[0m\u001b[0;34m\u001b[0m\u001b[0;34m\u001b[0m\u001b[0m\n",
            "\u001b[0;32m/usr/local/lib/python3.11/dist-packages/google/colab/files.py\u001b[0m in \u001b[0;36mupload\u001b[0;34m(target_dir)\u001b[0m\n\u001b[1;32m     70\u001b[0m   \"\"\"\n\u001b[1;32m     71\u001b[0m \u001b[0;34m\u001b[0m\u001b[0m\n\u001b[0;32m---> 72\u001b[0;31m   \u001b[0muploaded_files\u001b[0m \u001b[0;34m=\u001b[0m \u001b[0m_upload_files\u001b[0m\u001b[0;34m(\u001b[0m\u001b[0mmultiple\u001b[0m\u001b[0;34m=\u001b[0m\u001b[0;32mTrue\u001b[0m\u001b[0;34m)\u001b[0m\u001b[0;34m\u001b[0m\u001b[0;34m\u001b[0m\u001b[0m\n\u001b[0m\u001b[1;32m     73\u001b[0m   \u001b[0;31m# Mapping from original filename to filename as saved locally.\u001b[0m\u001b[0;34m\u001b[0m\u001b[0;34m\u001b[0m\u001b[0m\n\u001b[1;32m     74\u001b[0m   \u001b[0mlocal_filenames\u001b[0m \u001b[0;34m=\u001b[0m \u001b[0mdict\u001b[0m\u001b[0;34m(\u001b[0m\u001b[0;34m)\u001b[0m\u001b[0;34m\u001b[0m\u001b[0;34m\u001b[0m\u001b[0m\n",
            "\u001b[0;32m/usr/local/lib/python3.11/dist-packages/google/colab/files.py\u001b[0m in \u001b[0;36m_upload_files\u001b[0;34m(multiple)\u001b[0m\n\u001b[1;32m    162\u001b[0m \u001b[0;34m\u001b[0m\u001b[0m\n\u001b[1;32m    163\u001b[0m   \u001b[0;31m# First result is always an indication that the file picker has completed.\u001b[0m\u001b[0;34m\u001b[0m\u001b[0;34m\u001b[0m\u001b[0m\n\u001b[0;32m--> 164\u001b[0;31m   result = _output.eval_js(\n\u001b[0m\u001b[1;32m    165\u001b[0m       'google.colab._files._uploadFiles(\"{input_id}\", \"{output_id}\")'.format(\n\u001b[1;32m    166\u001b[0m           \u001b[0minput_id\u001b[0m\u001b[0;34m=\u001b[0m\u001b[0minput_id\u001b[0m\u001b[0;34m,\u001b[0m \u001b[0moutput_id\u001b[0m\u001b[0;34m=\u001b[0m\u001b[0moutput_id\u001b[0m\u001b[0;34m\u001b[0m\u001b[0;34m\u001b[0m\u001b[0m\n",
            "\u001b[0;32m/usr/local/lib/python3.11/dist-packages/google/colab/output/_js.py\u001b[0m in \u001b[0;36meval_js\u001b[0;34m(script, ignore_result, timeout_sec)\u001b[0m\n\u001b[1;32m     38\u001b[0m   \u001b[0;32mif\u001b[0m \u001b[0mignore_result\u001b[0m\u001b[0;34m:\u001b[0m\u001b[0;34m\u001b[0m\u001b[0;34m\u001b[0m\u001b[0m\n\u001b[1;32m     39\u001b[0m     \u001b[0;32mreturn\u001b[0m\u001b[0;34m\u001b[0m\u001b[0;34m\u001b[0m\u001b[0m\n\u001b[0;32m---> 40\u001b[0;31m   \u001b[0;32mreturn\u001b[0m \u001b[0m_message\u001b[0m\u001b[0;34m.\u001b[0m\u001b[0mread_reply_from_input\u001b[0m\u001b[0;34m(\u001b[0m\u001b[0mrequest_id\u001b[0m\u001b[0;34m,\u001b[0m \u001b[0mtimeout_sec\u001b[0m\u001b[0;34m)\u001b[0m\u001b[0;34m\u001b[0m\u001b[0;34m\u001b[0m\u001b[0m\n\u001b[0m\u001b[1;32m     41\u001b[0m \u001b[0;34m\u001b[0m\u001b[0m\n\u001b[1;32m     42\u001b[0m \u001b[0;34m\u001b[0m\u001b[0m\n",
            "\u001b[0;32m/usr/local/lib/python3.11/dist-packages/google/colab/_message.py\u001b[0m in \u001b[0;36mread_reply_from_input\u001b[0;34m(message_id, timeout_sec)\u001b[0m\n\u001b[1;32m     94\u001b[0m     \u001b[0mreply\u001b[0m \u001b[0;34m=\u001b[0m \u001b[0m_read_next_input_message\u001b[0m\u001b[0;34m(\u001b[0m\u001b[0;34m)\u001b[0m\u001b[0;34m\u001b[0m\u001b[0;34m\u001b[0m\u001b[0m\n\u001b[1;32m     95\u001b[0m     \u001b[0;32mif\u001b[0m \u001b[0mreply\u001b[0m \u001b[0;34m==\u001b[0m \u001b[0m_NOT_READY\u001b[0m \u001b[0;32mor\u001b[0m \u001b[0;32mnot\u001b[0m \u001b[0misinstance\u001b[0m\u001b[0;34m(\u001b[0m\u001b[0mreply\u001b[0m\u001b[0;34m,\u001b[0m \u001b[0mdict\u001b[0m\u001b[0;34m)\u001b[0m\u001b[0;34m:\u001b[0m\u001b[0;34m\u001b[0m\u001b[0;34m\u001b[0m\u001b[0m\n\u001b[0;32m---> 96\u001b[0;31m       \u001b[0mtime\u001b[0m\u001b[0;34m.\u001b[0m\u001b[0msleep\u001b[0m\u001b[0;34m(\u001b[0m\u001b[0;36m0.025\u001b[0m\u001b[0;34m)\u001b[0m\u001b[0;34m\u001b[0m\u001b[0;34m\u001b[0m\u001b[0m\n\u001b[0m\u001b[1;32m     97\u001b[0m       \u001b[0;32mcontinue\u001b[0m\u001b[0;34m\u001b[0m\u001b[0;34m\u001b[0m\u001b[0m\n\u001b[1;32m     98\u001b[0m     if (\n",
            "\u001b[0;31mKeyboardInterrupt\u001b[0m: "
          ]
        }
      ]
    }
  ]
}