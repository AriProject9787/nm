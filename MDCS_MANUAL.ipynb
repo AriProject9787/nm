{
  "cells": [
    {
      "cell_type": "markdown",
      "metadata": {
        "id": "view-in-github",
        "colab_type": "text"
      },
      "source": [
        "<a href=\"https://colab.research.google.com/github/AriProject9787/nm/blob/main/MDCS_MANUAL.ipynb\" target=\"_parent\"><img src=\"https://colab.research.google.com/assets/colab-badge.svg\" alt=\"Open In Colab\"/></a>"
      ]
    },
    {
      "cell_type": "code",
      "execution_count": null,
      "metadata": {
        "colab": {
          "base_uri": "https://localhost:8080/"
        },
        "id": "PZ6M82vMvQ2L",
        "outputId": "3d34afde-913e-436f-90d3-95838f0c3b52"
      },
      "outputs": [
        {
          "output_type": "stream",
          "name": "stdout",
          "text": [
            "Enter the string of symbols: aabbccdd\n",
            "Symbols: aabbccdd\n",
            "Huffman Codes:\n",
            "a: 00\n",
            "b: 01\n",
            "c: 10\n",
            "d: 11\n"
          ]
        }
      ],
      "source": [
        "#Ex No 1 : Huffman Coding:\n",
        "import heapq\n",
        "from collections import Counter\n",
        "\n",
        "def huffman_coding(symbols):\n",
        "    freq_map = Counter(symbols)\n",
        "    heap = [[freq, [char, \"\"]] for char, freq in freq_map.items()]\n",
        "    heapq.heapify(heap)\n",
        "\n",
        "    while len(heap) > 1:\n",
        "        left = heapq.heappop(heap)\n",
        "        right = heapq.heappop(heap)\n",
        "\n",
        "        for pair in left[1:]:\n",
        "            pair[1] = '0' + pair[1]\n",
        "        for pair in right[1:]:\n",
        "            pair[1] = '1' + pair[1]\n",
        "\n",
        "        heapq.heappush(heap, [left[0] + right[0]] + left[1:] + right[1:])\n",
        "\n",
        "    huffman_codes = dict(heapq.heappop(heap)[1:])\n",
        "    return huffman_codes\n",
        "\n",
        "if __name__ == \"__main__\":\n",
        "    symbols = input(\"Enter the string of symbols: \")\n",
        "    print(\"Symbols:\", symbols)\n",
        "    huffman_codes = huffman_coding(symbols)\n",
        "    print(\"Huffman Codes:\")\n",
        "    for char, code in huffman_codes.items():\n",
        "        print(f\"{char}: {code}\")\n"
      ]
    },
    {
      "cell_type": "code",
      "execution_count": null,
      "metadata": {
        "colab": {
          "base_uri": "https://localhost:8080/"
        },
        "id": "dblwD1mqvlgF",
        "outputId": "72ee9d57-99ce-4454-8459-0e9adcf22dd4"
      },
      "outputs": [
        {
          "output_type": "stream",
          "name": "stdout",
          "text": [
            "Enter the string to encode with run-length encoding: ffffggggg\n",
            "Encoded Run-Lengths:\n",
            "f: 00000100\n",
            "g: 00000101\n"
          ]
        }
      ],
      "source": [
        "#Ex No 2 : Encode run lengths with fixed-length code :\n",
        "def encode_run_lengths(s):\n",
        "    if not s:\n",
        "        return []\n",
        "    encoded = []\n",
        "    current_char, count = s[0], 1\n",
        "    for char in s[1:]:\n",
        "        if char == current_char:\n",
        "            count += 1\n",
        "        else:\n",
        "            encoded.append((current_char, f\"{count:08b}\"))\n",
        "            current_char, count = char, 1\n",
        "    encoded.append((current_char, f\"{count:08b}\"))\n",
        "    return encoded\n",
        "\n",
        "# Get input from user\n",
        "input_str = input(\"Enter the string to encode with run-length encoding: \")\n",
        "\n",
        "print(\"Encoded Run-Lengths:\")\n",
        "for char, code in encode_run_lengths(input_str):\n",
        "    print(f\"{char}: {code}\")\n"
      ]
    },
    {
      "cell_type": "code",
      "execution_count": null,
      "metadata": {
        "colab": {
          "base_uri": "https://localhost:8080/"
        },
        "id": "XckN4-EVv4QE",
        "outputId": "f94dc286-ddd8-492f-dc4f-ca09e4a6bd67"
      },
      "outputs": [
        {
          "output_type": "stream",
          "name": "stdout",
          "text": [
            "Enter the string to encode using Lempel-Ziv: abc\n",
            "Encoded: [97, 98, 99]\n"
          ]
        }
      ],
      "source": [
        "#Ex No 3 : Lempel-Ziv algorithm for adaptive variable-length encoding :\n",
        "def lempel_ziv_encode(data):\n",
        "    dictionary = {chr(i): i for i in range(256)}\n",
        "    next_code = 256\n",
        "    current_string = \"\"\n",
        "    encoded_output = []\n",
        "\n",
        "    for symbol in data:\n",
        "        combined_string = current_string + symbol\n",
        "        if combined_string in dictionary:\n",
        "            current_string = combined_string\n",
        "        else:\n",
        "            encoded_output.append(dictionary[current_string])\n",
        "            dictionary[combined_string] = next_code\n",
        "            next_code += 1\n",
        "            current_string = symbol\n",
        "\n",
        "    if current_string:\n",
        "        encoded_output.append(dictionary[current_string])\n",
        "\n",
        "    return encoded_output\n",
        "\n",
        "# Get input from user\n",
        "input_data = input(\"Enter the string to encode using Lempel-Ziv: \")\n",
        "\n",
        "# Perform encoding\n",
        "encoded = lempel_ziv_encode(input_data)\n",
        "print(\"Encoded:\", encoded)\n"
      ]
    },
    {
      "cell_type": "code",
      "execution_count": null,
      "metadata": {
        "colab": {
          "base_uri": "https://localhost:8080/"
        },
        "id": "ytBSoyvQwCE0",
        "outputId": "ec18a9be-6f1a-400c-f476-977747cc3278"
      },
      "outputs": [
        {
          "output_type": "stream",
          "name": "stdout",
          "text": [
            "Word: hello\n",
            "Freq of 'e': 0.3\n",
            "Freq of 'h': 0.2\n",
            "Freq of 'l': 0.4\n",
            "Freq of 'o': 0.1\n",
            "Compressed value: 0.35112\n"
          ]
        }
      ],
      "source": [
        "#Ex No 4 : Compress the given word using arithmetic coding based on the frequency of the letters :\n",
        "def arithmetic_coding(word, freq):\n",
        "    cum_prob, low = {}, 0.0\n",
        "    for ch in sorted(freq):  # Step 1\n",
        "        cum_prob[ch] = (low, low := low + freq[ch])\n",
        "    lo, hi = 0.0, 1.0\n",
        "    for ch in word:  # Step 2\n",
        "        r = hi - lo\n",
        "        lo, hi = lo + r * cum_prob[ch][0], lo + r * cum_prob[ch][1]\n",
        "    return (lo + hi) / 2  # Step 3\n",
        "\n",
        "# Input\n",
        "word = input(\"Word: \")\n",
        "freq = {ch: float(input(f\"Freq of '{ch}': \")) for ch in sorted(set(word))}\n",
        "\n",
        "# Output\n",
        "print(\"Compressed value:\", arithmetic_coding(word, freq))\n"
      ]
    },
    {
      "cell_type": "code",
      "execution_count": null,
      "metadata": {
        "colab": {
          "base_uri": "https://localhost:8080/"
        },
        "id": "fGxNYOqHxBye",
        "outputId": "31d8e991-205a-41d9-a42a-b3507a9204e8"
      },
      "outputs": [
        {
          "output_type": "stream",
          "name": "stdout",
          "text": [
            "Enter video path: /content/t1.mp4\n",
            "Enter output folder name: frame\n",
            "5400 frames extracted with OpenCV\n"
          ]
        }
      ],
      "source": [
        "# Ex No 6 Program to split images from videos\n",
        "import cv2, os\n",
        "from moviepy.editor import VideoFileClip\n",
        "\n",
        "def split_video_into_frames(video_path, output_folder):\n",
        "    if not os.path.exists(video_path):\n",
        "        print(\"File not found\")\n",
        "        return\n",
        "\n",
        "    os.makedirs(output_folder, exist_ok=True)\n",
        "    cap = cv2.VideoCapture(video_path, cv2.CAP_FFMPEG)\n",
        "\n",
        "    if cap.isOpened():\n",
        "        i = 0\n",
        "        while True:\n",
        "            ret, frame = cap.read()\n",
        "            if not ret: break\n",
        "            cv2.imwrite(f\"{output_folder}/frame_{i:04d}.jpg\", frame)\n",
        "            i += 1\n",
        "        cap.release()\n",
        "        print(f\"{i} frames extracted with OpenCV\")\n",
        "    else:\n",
        "        try:\n",
        "            VideoFileClip(video_path).write_images_sequence(f\"{output_folder}/frame_%04d.jpg\")\n",
        "            print(\"Frames extracted with MoviePy\")\n",
        "        except Exception as e:\n",
        "            print(\"MoviePy error:\", e)\n",
        "\n",
        "# User input\n",
        "video_path = input(\"Enter video path: \")\n",
        "output_folder = input(\"Enter output folder name: \")\n",
        "\n",
        "split_video_into_frames(video_path, output_folder)\n"
      ]
    },
    {
      "cell_type": "code",
      "execution_count": null,
      "metadata": {
        "colab": {
          "base_uri": "https://localhost:8080/"
        },
        "id": "ufS52ZR7yEoN",
        "outputId": "a91b78de-4368-4262-b2d5-3bbd7cf7af76"
      },
      "outputs": [
        {
          "output_type": "stream",
          "name": "stdout",
          "text": [
            "Album created successfully!\n"
          ]
        }
      ],
      "source": [
        "# ExNo 7\n",
        "from PIL import Image\n",
        "import os\n",
        "\n",
        "input_folder = \"/content/frame\"            # Put your trip images in this folder\n",
        "output_folder = \"TripAlbu\"      # Album will be saved here\n",
        "size = (800, 600)\n",
        "\n",
        "os.makedirs(output_folder, exist_ok=True)\n",
        "\n",
        "for i, file in enumerate(os.listdir(input_folder)):\n",
        "    if file.endswith(('.jpg', '.png', '.jpeg')):\n",
        "        img = Image.open(f\"{input_folder}/{file}\")\n",
        "        img = img.resize(size)\n",
        "        img.save(f\"{output_folder}/photo_{i+1}.jpg\")\n",
        "\n",
        "print(\"Album created successfully!\")"
      ]
    },
    {
      "cell_type": "code",
      "execution_count": null,
      "metadata": {
        "id": "6gBphycfyS-s",
        "colab": {
          "base_uri": "https://localhost:8080/"
        },
        "outputId": "f840a36b-d4f1-4ccd-8318-76d4d003f3ee"
      },
      "outputs": [
        {
          "output_type": "stream",
          "name": "stdout",
          "text": [
            "Enter Excel file path (e.g., media_logs.xlsx): /content/media_logs.xlsx\n",
            "Enter sheet name (or leave blank for default): \n",
            "Enter column name with URLs: media_url\n",
            "\n",
            "Content Popularity (Most to Least):\n",
            "https://youtu.be/ZTgVFe4_H-s?feature=shared → Accessed 99 times\n"
          ]
        }
      ],
      "source": [
        "# ExNo 8\n",
        "import pandas as pd\n",
        "from collections import Counter\n",
        "\n",
        "# Read the Excel file\n",
        "file_path = input(\"Enter Excel file path (e.g., media_logs.xlsx): \")\n",
        "sheet_name = input(\"Enter sheet name (or leave blank for default): \") or 0\n",
        "column_name = input(\"Enter column name with URLs: \")\n",
        "\n",
        "try:\n",
        "    df = pd.read_excel(file_path, sheet_name=sheet_name)\n",
        "    if column_name not in df.columns:\n",
        "        print(f\"Column '{column_name}' not found.\")\n",
        "    else:\n",
        "        media_logs = df[column_name].dropna().tolist()\n",
        "        popularity = Counter(media_logs)\n",
        "        sorted_popularity = popularity.most_common()\n",
        "\n",
        "        print(\"\\nContent Popularity (Most to Least):\")\n",
        "        for content, count in sorted_popularity:\n",
        "            print(f\"{content} → Accessed {count} times\")\n",
        "except Exception as e:\n",
        "    print(\"Error:\", e)\n"
      ]
    },
    {
      "cell_type": "code",
      "execution_count": null,
      "metadata": {
        "colab": {
          "base_uri": "https://localhost:8080/"
        },
        "id": "iVkqWsQaGKxu",
        "outputId": "f0b2feb3-a9ca-4c91-9680-4357b4429805"
      },
      "outputs": [
        {
          "output_type": "stream",
          "name": "stdout",
          "text": [
            "Enter disk folder name (e.g., my_disk): my_disk\n",
            "Enter data to protect (e.g., SECRETDATA1234567890): wudfhwugh\n",
            "Enter stripe size (e.g., 4): 2\n",
            "\n",
            "Original: wudfhwugh\n",
            "Rebuilt: wudfhwugherg\n",
            "Stripe files: ['part_6.strip', 'part_4.strip', 'part_3.strip', 'part_1.strip', 'part_0.strip', 'part_5.strip', 'part_2.strip']\n"
          ]
        }
      ],
      "source": [
        "# ExNo 9\n",
        "import os\n",
        "\n",
        "# User input\n",
        "disk = input(\"Enter disk folder name (e.g., my_disk): \")\n",
        "data = input(\"Enter data to protect (e.g., SECRETDATA1234567890): \")\n",
        "stripe_size = int(input(\"Enter stripe size (e.g., 4): \"))\n",
        "\n",
        "# Setup\n",
        "os.makedirs(disk, exist_ok=True)\n",
        "\n",
        "# Striping Write\n",
        "for i in range(0, len(data), stripe_size):\n",
        "    chunk = data[i:i+stripe_size]\n",
        "    with open(f\"{disk}/part_{i//stripe_size}.strip\", 'w') as f:\n",
        "        f.write(chunk)\n",
        "\n",
        "# Verification Read\n",
        "rebuilt = \"\"\n",
        "for fname in sorted(os.listdir(disk)):\n",
        "    with open(f\"{disk}/{fname}\") as f:\n",
        "        rebuilt += f.read()\n",
        "\n",
        "# Output\n",
        "print(f\"\\nOriginal: {data}\\nRebuilt: {rebuilt}\")\n",
        "print(\"Stripe files:\", os.listdir(disk))\n"
      ]
    },
    {
      "cell_type": "code",
      "execution_count": null,
      "metadata": {
        "id": "XMu1NiqhGyp3",
        "colab": {
          "base_uri": "https://localhost:8080/"
        },
        "outputId": "75744d18-21b4-40bd-a058-ad20f3bf9eb6"
      },
      "outputs": [
        {
          "output_type": "stream",
          "name": "stdout",
          "text": [
            "No. of stream requests: 1\n",
            "Stream 1 (name arrival duration): youtube 2 1\n",
            "\n",
            "Scheduled Streams:\n",
            "youtube: Start=2, End=3\n"
          ]
        }
      ],
      "source": [
        "# ExNo 10\n",
        "n = int(input(\"No. of stream requests: \"))\n",
        "requests = [tuple(input(f\"Stream {i+1} (name arrival duration): \").split()) for i in range(n)]\n",
        "requests = [(name, int(arrival), int(duration)) for name, arrival, duration in requests]\n",
        "requests.sort(key=lambda x: x[1])  # Sort by arrival\n",
        "\n",
        "time = 0\n",
        "print(\"\\nScheduled Streams:\")\n",
        "for name, arrival, duration in requests:\n",
        "    start = max(time, arrival)\n",
        "    end = start + duration\n",
        "    print(f\"{name}: Start={start}, End={end}\")\n",
        "    time = end\n"
      ]
    }
  ],
  "metadata": {
    "colab": {
      "provenance": [],
      "include_colab_link": true
    },
    "kernelspec": {
      "display_name": "Python 3",
      "name": "python3"
    },
    "language_info": {
      "name": "python"
    }
  },
  "nbformat": 4,
  "nbformat_minor": 0
}